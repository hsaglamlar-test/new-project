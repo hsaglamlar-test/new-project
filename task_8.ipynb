{
  "nbformat": 4,
  "nbformat_minor": 0,
  "metadata": {
    "colab": {
      "name": "task-8.ipynb",
      "provenance": [],
      "collapsed_sections": [
        "zqCw8x_l5p-1"
      ],
      "authorship_tag": "ABX9TyMx/y4an8aeQG4xx2H5dV9w",
      "include_colab_link": true
    },
    "kernelspec": {
      "name": "python3",
      "display_name": "Python 3"
    },
    "language_info": {
      "name": "python"
    },
    "accelerator": "GPU",
    "gpuClass": "standard"
  },
  "cells": [
    {
      "cell_type": "markdown",
      "metadata": {
        "id": "view-in-github",
        "colab_type": "text"
      },
      "source": [
        "<a href=\"https://colab.research.google.com/github/hsaglamlar-test/new-project/blob/main/task_8.ipynb\" target=\"_parent\"><img src=\"https://colab.research.google.com/assets/colab-badge.svg\" alt=\"Open In Colab\"/></a>"
      ]
    },
    {
      "cell_type": "code",
      "execution_count": 1,
      "metadata": {
        "id": "gqJD52y5jk9d"
      },
      "outputs": [],
      "source": [
        " pip install -q spark-nlp==3.4.2 pyspark==3.2.0"
      ]
    },
    {
      "cell_type": "code",
      "source": [
        "import sparknlp\n",
        "\n",
        "spark = sparknlp.start(gpu = True, spark32=True) # for GPU training >> sparknlp.start(gpu = True) # for Spark 2.3 =>> sparknlp.start(spark23 = True)\n",
        "\n",
        "from sparknlp.base import *\n",
        "from sparknlp.annotator import *\n",
        "from pyspark.ml import Pipeline\n",
        "import pandas as pd\n",
        "import os\n",
        "\n",
        "print(\"Spark NLP version\", sparknlp.version())\n",
        "print(\"Apache Spark version:\", spark.version)\n",
        "\n",
        "spark"
      ],
      "metadata": {
        "colab": {
          "base_uri": "https://localhost:8080/",
          "height": 254
        },
        "id": "YdKn0c5HjyPa",
        "outputId": "47f1969f-f03f-4833-fecf-e215ec5af96f"
      },
      "execution_count": 3,
      "outputs": [
        {
          "output_type": "stream",
          "name": "stdout",
          "text": [
            "Spark NLP version 3.4.2\n",
            "Apache Spark version: 3.2.0\n"
          ]
        },
        {
          "output_type": "execute_result",
          "data": {
            "text/plain": [
              "<pyspark.sql.session.SparkSession at 0x7f58a1431b90>"
            ],
            "text/html": [
              "\n",
              "            <div>\n",
              "                <p><b>SparkSession - in-memory</b></p>\n",
              "                \n",
              "        <div>\n",
              "            <p><b>SparkContext</b></p>\n",
              "\n",
              "            <p><a href=\"http://68f8f3fea258:4040\">Spark UI</a></p>\n",
              "\n",
              "            <dl>\n",
              "              <dt>Version</dt>\n",
              "                <dd><code>v3.2.0</code></dd>\n",
              "              <dt>Master</dt>\n",
              "                <dd><code>local[*]</code></dd>\n",
              "              <dt>AppName</dt>\n",
              "                <dd><code>Spark NLP</code></dd>\n",
              "            </dl>\n",
              "        </div>\n",
              "        \n",
              "            </div>\n",
              "        "
            ]
          },
          "metadata": {},
          "execution_count": 3
        }
      ]
    },
    {
      "cell_type": "markdown",
      "source": [
        "# Cleaning"
      ],
      "metadata": {
        "id": "zqCw8x_l5p-1"
      }
    },
    {
      "cell_type": "code",
      "source": [
        "pd_train = pd.read_csv(\"df_train.csv\")\n",
        "pd_test = pd.read_csv(\"df_val.csv\")\n",
        "pd_train\n"
      ],
      "metadata": {
        "colab": {
          "base_uri": "https://localhost:8080/",
          "height": 0
        },
        "id": "bAJ3a172lZyM",
        "outputId": "fe3bbfe6-70e3-43c6-a488-677500a99393"
      },
      "execution_count": 4,
      "outputs": [
        {
          "output_type": "execute_result",
          "data": {
            "text/plain": [
              "                                                   text             tweet_id  \\\n",
              "0     Depression and anxiety will probably end up ki...  1189514994452520960   \n",
              "1     growing accustomed to living in a constant sta...  1199424423758983169   \n",
              "2     Ive been feeling like im in a constant state o...  1183952883395547136   \n",
              "3     @Screvvy Do you enjoy living constantly in thi...  1206425604607877120   \n",
              "4     Me: drained from constant stress\\nAlso me: goe...  1184702290801889280   \n",
              "...                                                 ...                  ...   \n",
              "2931  Having a chronic illness sucks and then gettin...  1197779681547706368   \n",
              "2932  why is my life a constant struggle like nothin...  1192044023986479111   \n",
              "2933  How the fuck am i supposed to be in any christ...  1199041248407019521   \n",
              "2934  RT ShiftConMedia \"So how can you short circuit...  1180139887959461894   \n",
              "2935  In a constant state of stress and anxiety, lov...  1224450793312440324   \n",
              "\n",
              "      label  \n",
              "0         1  \n",
              "1         1  \n",
              "2         1  \n",
              "3         0  \n",
              "4         0  \n",
              "...     ...  \n",
              "2931      0  \n",
              "2932      1  \n",
              "2933      0  \n",
              "2934      0  \n",
              "2935      1  \n",
              "\n",
              "[2936 rows x 3 columns]"
            ],
            "text/html": [
              "\n",
              "  <div id=\"df-0f8c36ee-2ebc-4e00-bc29-8dee0c013b8b\">\n",
              "    <div class=\"colab-df-container\">\n",
              "      <div>\n",
              "<style scoped>\n",
              "    .dataframe tbody tr th:only-of-type {\n",
              "        vertical-align: middle;\n",
              "    }\n",
              "\n",
              "    .dataframe tbody tr th {\n",
              "        vertical-align: top;\n",
              "    }\n",
              "\n",
              "    .dataframe thead th {\n",
              "        text-align: right;\n",
              "    }\n",
              "</style>\n",
              "<table border=\"1\" class=\"dataframe\">\n",
              "  <thead>\n",
              "    <tr style=\"text-align: right;\">\n",
              "      <th></th>\n",
              "      <th>text</th>\n",
              "      <th>tweet_id</th>\n",
              "      <th>label</th>\n",
              "    </tr>\n",
              "  </thead>\n",
              "  <tbody>\n",
              "    <tr>\n",
              "      <th>0</th>\n",
              "      <td>Depression and anxiety will probably end up ki...</td>\n",
              "      <td>1189514994452520960</td>\n",
              "      <td>1</td>\n",
              "    </tr>\n",
              "    <tr>\n",
              "      <th>1</th>\n",
              "      <td>growing accustomed to living in a constant sta...</td>\n",
              "      <td>1199424423758983169</td>\n",
              "      <td>1</td>\n",
              "    </tr>\n",
              "    <tr>\n",
              "      <th>2</th>\n",
              "      <td>Ive been feeling like im in a constant state o...</td>\n",
              "      <td>1183952883395547136</td>\n",
              "      <td>1</td>\n",
              "    </tr>\n",
              "    <tr>\n",
              "      <th>3</th>\n",
              "      <td>@Screvvy Do you enjoy living constantly in thi...</td>\n",
              "      <td>1206425604607877120</td>\n",
              "      <td>0</td>\n",
              "    </tr>\n",
              "    <tr>\n",
              "      <th>4</th>\n",
              "      <td>Me: drained from constant stress\\nAlso me: goe...</td>\n",
              "      <td>1184702290801889280</td>\n",
              "      <td>0</td>\n",
              "    </tr>\n",
              "    <tr>\n",
              "      <th>...</th>\n",
              "      <td>...</td>\n",
              "      <td>...</td>\n",
              "      <td>...</td>\n",
              "    </tr>\n",
              "    <tr>\n",
              "      <th>2931</th>\n",
              "      <td>Having a chronic illness sucks and then gettin...</td>\n",
              "      <td>1197779681547706368</td>\n",
              "      <td>0</td>\n",
              "    </tr>\n",
              "    <tr>\n",
              "      <th>2932</th>\n",
              "      <td>why is my life a constant struggle like nothin...</td>\n",
              "      <td>1192044023986479111</td>\n",
              "      <td>1</td>\n",
              "    </tr>\n",
              "    <tr>\n",
              "      <th>2933</th>\n",
              "      <td>How the fuck am i supposed to be in any christ...</td>\n",
              "      <td>1199041248407019521</td>\n",
              "      <td>0</td>\n",
              "    </tr>\n",
              "    <tr>\n",
              "      <th>2934</th>\n",
              "      <td>RT ShiftConMedia \"So how can you short circuit...</td>\n",
              "      <td>1180139887959461894</td>\n",
              "      <td>0</td>\n",
              "    </tr>\n",
              "    <tr>\n",
              "      <th>2935</th>\n",
              "      <td>In a constant state of stress and anxiety, lov...</td>\n",
              "      <td>1224450793312440324</td>\n",
              "      <td>1</td>\n",
              "    </tr>\n",
              "  </tbody>\n",
              "</table>\n",
              "<p>2936 rows × 3 columns</p>\n",
              "</div>\n",
              "      <button class=\"colab-df-convert\" onclick=\"convertToInteractive('df-0f8c36ee-2ebc-4e00-bc29-8dee0c013b8b')\"\n",
              "              title=\"Convert this dataframe to an interactive table.\"\n",
              "              style=\"display:none;\">\n",
              "        \n",
              "  <svg xmlns=\"http://www.w3.org/2000/svg\" height=\"24px\"viewBox=\"0 0 24 24\"\n",
              "       width=\"24px\">\n",
              "    <path d=\"M0 0h24v24H0V0z\" fill=\"none\"/>\n",
              "    <path d=\"M18.56 5.44l.94 2.06.94-2.06 2.06-.94-2.06-.94-.94-2.06-.94 2.06-2.06.94zm-11 1L8.5 8.5l.94-2.06 2.06-.94-2.06-.94L8.5 2.5l-.94 2.06-2.06.94zm10 10l.94 2.06.94-2.06 2.06-.94-2.06-.94-.94-2.06-.94 2.06-2.06.94z\"/><path d=\"M17.41 7.96l-1.37-1.37c-.4-.4-.92-.59-1.43-.59-.52 0-1.04.2-1.43.59L10.3 9.45l-7.72 7.72c-.78.78-.78 2.05 0 2.83L4 21.41c.39.39.9.59 1.41.59.51 0 1.02-.2 1.41-.59l7.78-7.78 2.81-2.81c.8-.78.8-2.07 0-2.86zM5.41 20L4 18.59l7.72-7.72 1.47 1.35L5.41 20z\"/>\n",
              "  </svg>\n",
              "      </button>\n",
              "      \n",
              "  <style>\n",
              "    .colab-df-container {\n",
              "      display:flex;\n",
              "      flex-wrap:wrap;\n",
              "      gap: 12px;\n",
              "    }\n",
              "\n",
              "    .colab-df-convert {\n",
              "      background-color: #E8F0FE;\n",
              "      border: none;\n",
              "      border-radius: 50%;\n",
              "      cursor: pointer;\n",
              "      display: none;\n",
              "      fill: #1967D2;\n",
              "      height: 32px;\n",
              "      padding: 0 0 0 0;\n",
              "      width: 32px;\n",
              "    }\n",
              "\n",
              "    .colab-df-convert:hover {\n",
              "      background-color: #E2EBFA;\n",
              "      box-shadow: 0px 1px 2px rgba(60, 64, 67, 0.3), 0px 1px 3px 1px rgba(60, 64, 67, 0.15);\n",
              "      fill: #174EA6;\n",
              "    }\n",
              "\n",
              "    [theme=dark] .colab-df-convert {\n",
              "      background-color: #3B4455;\n",
              "      fill: #D2E3FC;\n",
              "    }\n",
              "\n",
              "    [theme=dark] .colab-df-convert:hover {\n",
              "      background-color: #434B5C;\n",
              "      box-shadow: 0px 1px 3px 1px rgba(0, 0, 0, 0.15);\n",
              "      filter: drop-shadow(0px 1px 2px rgba(0, 0, 0, 0.3));\n",
              "      fill: #FFFFFF;\n",
              "    }\n",
              "  </style>\n",
              "\n",
              "      <script>\n",
              "        const buttonEl =\n",
              "          document.querySelector('#df-0f8c36ee-2ebc-4e00-bc29-8dee0c013b8b button.colab-df-convert');\n",
              "        buttonEl.style.display =\n",
              "          google.colab.kernel.accessAllowed ? 'block' : 'none';\n",
              "\n",
              "        async function convertToInteractive(key) {\n",
              "          const element = document.querySelector('#df-0f8c36ee-2ebc-4e00-bc29-8dee0c013b8b');\n",
              "          const dataTable =\n",
              "            await google.colab.kernel.invokeFunction('convertToInteractive',\n",
              "                                                     [key], {});\n",
              "          if (!dataTable) return;\n",
              "\n",
              "          const docLinkHtml = 'Like what you see? Visit the ' +\n",
              "            '<a target=\"_blank\" href=https://colab.research.google.com/notebooks/data_table.ipynb>data table notebook</a>'\n",
              "            + ' to learn more about interactive tables.';\n",
              "          element.innerHTML = '';\n",
              "          dataTable['output_type'] = 'display_data';\n",
              "          await google.colab.output.renderOutput(dataTable, element);\n",
              "          const docLink = document.createElement('div');\n",
              "          docLink.innerHTML = docLinkHtml;\n",
              "          element.appendChild(docLink);\n",
              "        }\n",
              "      </script>\n",
              "    </div>\n",
              "  </div>\n",
              "  "
            ]
          },
          "metadata": {},
          "execution_count": 4
        }
      ]
    },
    {
      "cell_type": "code",
      "source": [
        "%pip install emoji"
      ],
      "metadata": {
        "colab": {
          "base_uri": "https://localhost:8080/"
        },
        "id": "IofKvFHN6cI2",
        "outputId": "52dda67f-6c51-4d94-8e02-dbf48dfbeec8"
      },
      "execution_count": 5,
      "outputs": [
        {
          "output_type": "stream",
          "name": "stdout",
          "text": [
            "Looking in indexes: https://pypi.org/simple, https://us-python.pkg.dev/colab-wheels/public/simple/\n",
            "Requirement already satisfied: emoji in /usr/local/lib/python3.7/dist-packages (1.7.0)\n"
          ]
        }
      ]
    },
    {
      "cell_type": "code",
      "source": [
        "import emoji\n",
        "import re\n",
        "def give_emoji_free_text(text):\n",
        "    return emoji.replace_emoji(text, replace='')\n",
        "\n",
        "def do_process_eng_hashtag(input_text: str) -> str:\n",
        "    return re.sub(\n",
        "        r'#[a-z]\\S*',\n",
        "        lambda m: ' '.join(re.findall('[A-Z][^A-Z]*|[a-z][^A-Z]*', m.group().lstrip('#'))),\n",
        "        input_text,\n",
        "    )\n"
      ],
      "metadata": {
        "id": "7eYSeyRn4PRx"
      },
      "execution_count": 6,
      "outputs": []
    },
    {
      "cell_type": "code",
      "source": [
        "txt1='ahmet #eveGelHemen sonra gidersin.'\n",
        "do_process_eng_hashtag(txt1)"
      ],
      "metadata": {
        "colab": {
          "base_uri": "https://localhost:8080/",
          "height": 0
        },
        "id": "LV2jLHhlKvVK",
        "outputId": "76d21fc5-3de3-48fe-8bc5-3715d70ebc71"
      },
      "execution_count": 7,
      "outputs": [
        {
          "output_type": "execute_result",
          "data": {
            "text/plain": [
              "'ahmet eve Gel Hemen sonra gidersin.'"
            ],
            "application/vnd.google.colaboratory.intrinsic+json": {
              "type": "string"
            }
          },
          "metadata": {},
          "execution_count": 7
        }
      ]
    },
    {
      "cell_type": "code",
      "source": [
        "def clean_tweet(df_column):\n",
        "\n",
        "  df_column = df_column.str.replace(r'@[A-Za-z0-9_]+','')\n",
        "  df_column = df_column.str.replace(r'#[A-Za-z0-9_]+','')\n",
        "  df_column = df_column.str.replace(r'&[A-Za-z0-9_]+;','')\n",
        "  df_column = df_column.str.replace(r\"http\\S+\", \"\")\n",
        "  df_column = df_column.str.replace(r\"www.\\S+\", \"\")\n",
        "\n",
        "  df_column = df_column.apply(give_emoji_free_text)\n",
        "  # df_column = df_column.apply(lambda x: do_process_eng_hashtag(x) )\n",
        "\n",
        "  return df_column"
      ],
      "metadata": {
        "id": "UzncJiqM5DL4"
      },
      "execution_count": 8,
      "outputs": []
    },
    {
      "cell_type": "code",
      "source": [
        "pd_train.text[111]"
      ],
      "metadata": {
        "colab": {
          "base_uri": "https://localhost:8080/",
          "height": 0
        },
        "id": "NhL_u6nETmkQ",
        "outputId": "63013596-c5d6-4a54-97c7-8a2cb2429a61"
      },
      "execution_count": 9,
      "outputs": [
        {
          "output_type": "execute_result",
          "data": {
            "text/plain": [
              "'loosing 10 lbs in less than a month because you’ve been constantly stressed &gt;&gt;&lt;&lt;&lt; lol 🥺'"
            ],
            "application/vnd.google.colaboratory.intrinsic+json": {
              "type": "string"
            }
          },
          "metadata": {},
          "execution_count": 9
        }
      ]
    },
    {
      "cell_type": "code",
      "source": [
        "pd_train.text = clean_tweet(pd_train.text)\n"
      ],
      "metadata": {
        "colab": {
          "base_uri": "https://localhost:8080/"
        },
        "id": "Wg0zRQ8-6jTE",
        "outputId": "b1d62402-c262-4fca-9e66-28c2b399dbb3"
      },
      "execution_count": 10,
      "outputs": [
        {
          "output_type": "stream",
          "name": "stderr",
          "text": [
            "/usr/local/lib/python3.7/dist-packages/ipykernel_launcher.py:3: FutureWarning: The default value of regex will change from True to False in a future version.\n",
            "  This is separate from the ipykernel package so we can avoid doing imports until\n",
            "/usr/local/lib/python3.7/dist-packages/ipykernel_launcher.py:4: FutureWarning: The default value of regex will change from True to False in a future version.\n",
            "  after removing the cwd from sys.path.\n",
            "/usr/local/lib/python3.7/dist-packages/ipykernel_launcher.py:5: FutureWarning: The default value of regex will change from True to False in a future version.\n",
            "  \"\"\"\n",
            "/usr/local/lib/python3.7/dist-packages/ipykernel_launcher.py:6: FutureWarning: The default value of regex will change from True to False in a future version.\n",
            "  \n",
            "/usr/local/lib/python3.7/dist-packages/ipykernel_launcher.py:7: FutureWarning: The default value of regex will change from True to False in a future version.\n",
            "  import sys\n"
          ]
        }
      ]
    },
    {
      "cell_type": "code",
      "source": [
        "pd_train.text[111]"
      ],
      "metadata": {
        "colab": {
          "base_uri": "https://localhost:8080/",
          "height": 0
        },
        "id": "Kk1ABc_eTb-5",
        "outputId": "7f29b6dd-9ba8-4479-fa92-dc69c08920a5"
      },
      "execution_count": 11,
      "outputs": [
        {
          "output_type": "execute_result",
          "data": {
            "text/plain": [
              "'loosing 10 lbs in less than a month because you’ve been constantly stressed  lol '"
            ],
            "application/vnd.google.colaboratory.intrinsic+json": {
              "type": "string"
            }
          },
          "metadata": {},
          "execution_count": 11
        }
      ]
    },
    {
      "cell_type": "code",
      "source": [
        "pd_test.text = clean_tweet(pd_test.text)\n"
      ],
      "metadata": {
        "colab": {
          "base_uri": "https://localhost:8080/"
        },
        "id": "JPpKpVwVB8yP",
        "outputId": "b53ff2c9-c68c-411d-f265-31c972883c44"
      },
      "execution_count": 12,
      "outputs": [
        {
          "output_type": "stream",
          "name": "stderr",
          "text": [
            "/usr/local/lib/python3.7/dist-packages/ipykernel_launcher.py:3: FutureWarning: The default value of regex will change from True to False in a future version.\n",
            "  This is separate from the ipykernel package so we can avoid doing imports until\n",
            "/usr/local/lib/python3.7/dist-packages/ipykernel_launcher.py:4: FutureWarning: The default value of regex will change from True to False in a future version.\n",
            "  after removing the cwd from sys.path.\n",
            "/usr/local/lib/python3.7/dist-packages/ipykernel_launcher.py:5: FutureWarning: The default value of regex will change from True to False in a future version.\n",
            "  \"\"\"\n",
            "/usr/local/lib/python3.7/dist-packages/ipykernel_launcher.py:6: FutureWarning: The default value of regex will change from True to False in a future version.\n",
            "  \n",
            "/usr/local/lib/python3.7/dist-packages/ipykernel_launcher.py:7: FutureWarning: The default value of regex will change from True to False in a future version.\n",
            "  import sys\n"
          ]
        }
      ]
    },
    {
      "cell_type": "code",
      "source": [
        "df_train= spark.createDataFrame(pd_train)\n",
        "df_test= spark.createDataFrame(pd_test)\n",
        "df_test.show(truncate=False)"
      ],
      "metadata": {
        "colab": {
          "base_uri": "https://localhost:8080/"
        },
        "id": "k7vMUdmVj_4V",
        "outputId": "89c48e8a-649f-4b5d-bacb-5a6159260451"
      },
      "execution_count": 13,
      "outputs": [
        {
          "output_type": "stream",
          "name": "stdout",
          "text": [
            "+--------------------------------------------------------------------------------------------------------------------------------------------+-------------------+-----+\n",
            "|text                                                                                                                                        |tweet_id           |label|\n",
            "+--------------------------------------------------------------------------------------------------------------------------------------------+-------------------+-----+\n",
            "|Diastolic blood pressure measure Chronic Physical Stress.                                                                                   |1202304872848252930|0    |\n",
            "|i live in constant stress over these cans of soup                                                                                           |1221223724990521344|1    |\n",
            "|i’m constantly stressed over absolutely NOTHING                                                                                             |1227475850871873536|1    |\n",
            "|I genuinely cannot wait to be done with college. I’m constantly stressed during the semester but I know it’ll all be worth it.              |1225984258025586689|1    |\n",
            "|I don’t wanna die from chronic stress                                                                                                       |1204430301503594498|0    |\n",
            "|With all this constant stress, I barely have time for myself...single life is for me rn                                                     |1237198691989143553|1    |\n",
            "|i have been in a constant state of stress since last saturday i do not appreciate this                                                      |1191091413624246272|1    |\n",
            "|the fact that im constantly getting older stress me sm ???? but to know that people are getting older with me makes me feel better ?????????|1183118095474397184|0    |\n",
            "|I cannot sleep due to my constant stress. I can't take it anymore.                                                                          |1195568122876645377|1    |\n",
            "|Naaaa this winter season is all cute until ur single, broke, constantly stressed and putting on weight... can city girl summer hurry up     |1203693688062431233|0    |\n",
            "| And there's several more studies on physiological effects of chronic stress, which seems close-enough.                                     |1188905483198795777|0    |\n",
            "| Constant stress and depression                                                                                                             |1225481105534574596|0    |\n",
            "| Step 1 of winning a fight against a virus; no chronic stress, it compromises your immune system.                                           |1227661650825637888|0    |\n",
            "| I wouldn’t want to know. I’d be constantly stressed.                                                                                       |1196425890399498240|0    |\n",
            "|wonder what it’s like to not be constantly stressed about money                                                                             |1237408794155667457|1    |\n",
            "|It’s like some people live to constantly stress me out or make me cry smt                                                                   |1227467752933339137|1    |\n",
            "|It all makes sense! Apparently I have been chronically stressed out since age 10.                                                           |1221175205026041857|1    |\n",
            "|The stress of when to fake tan next week is taking over me                                                                                  |1225555940960866304|1    |\n",
            "|i constantly stress about wtf i’m gonna do when i have to put my graduation cap on over my bangs i do not like thinking about this          |1225548209243770880|1    |\n",
            "|\"Is Social Media Stressing You Out?\" Constantly checking social media creates stress                                                        |1199704516716847105|0    |\n",
            "+--------------------------------------------------------------------------------------------------------------------------------------------+-------------------+-----+\n",
            "only showing top 20 rows\n",
            "\n"
          ]
        }
      ]
    },
    {
      "cell_type": "markdown",
      "source": [
        "# From tokens"
      ],
      "metadata": {
        "id": "qAjIEMu35vIX"
      }
    },
    {
      "cell_type": "code",
      "source": [
        "document_assembler = DocumentAssembler() \\\n",
        "      .setInputCol(\"text\") \\\n",
        "      .setOutputCol(\"document\")\n",
        "    \n",
        "tokenizer = Tokenizer() \\\n",
        "      .setInputCols([\"document\"]) \\\n",
        "      .setOutputCol(\"token\")\n",
        "    \n",
        "normalizer = Normalizer() \\\n",
        "      .setInputCols([\"token\"]) \\\n",
        "      .setOutputCol(\"normalized\")\\\n",
        "      .setLowercase(True)\\\n",
        "\n",
        "embeddings = BertEmbeddings.pretrained(\"bert_base_cased\", \"en\")\\\n",
        "      .setInputCols([\"document\",'normalized'])\\\n",
        "      .setOutputCol(\"embeddings\")\\\n",
        "      .setCaseSensitive(False)\n",
        "\n",
        "embeddingsSentence = SentenceEmbeddings() \\\n",
        "      .setInputCols([\"document\", \"embeddings\"]) \\\n",
        "      .setOutputCol(\"sentence_embeddings\") \\\n",
        "      .setPoolingStrategy(\"AVERAGE\")\n",
        "\n",
        "classsifierdl = ClassifierDLApproach()\\\n",
        "        .setInputCols([\"sentence_embeddings\"])\\\n",
        "        .setOutputCol(\"prediction\")\\\n",
        "        .setLabelColumn(\"label\")\\\n",
        "        .setEnableOutputLogs(True)\\\n",
        "        .setBatchSize(64)\\\n",
        "        .setMaxEpochs(48)\\\n",
        "        .setLr(0.0003)\\\n",
        "        .setOutputLogsPath('./clf_log')\\\n",
        "        .setEnableOutputLogs(True)\n",
        "\n",
        "clf_pipeline = Pipeline(\n",
        "    stages=[document_assembler, \n",
        "            tokenizer,\n",
        "            normalizer,\n",
        "            embeddings,\n",
        "            embeddingsSentence,\n",
        "            classsifierdl])"
      ],
      "metadata": {
        "colab": {
          "base_uri": "https://localhost:8080/"
        },
        "id": "52bYYq4KC9bU",
        "outputId": "680410c5-d97d-4431-dba8-dae4c0b66984"
      },
      "execution_count": 13,
      "outputs": [
        {
          "output_type": "stream",
          "name": "stdout",
          "text": [
            "bert_base_cased download started this may take some time.\n",
            "Approximate size to download 389.1 MB\n",
            "[OK!]\n"
          ]
        }
      ]
    },
    {
      "cell_type": "code",
      "source": [
        "clf_pipelineModel = clf_pipeline.fit(df_train)"
      ],
      "metadata": {
        "id": "Peeo_DMuDODa"
      },
      "execution_count": 14,
      "outputs": []
    },
    {
      "cell_type": "code",
      "source": [
        "pd_result = clf_pipelineModel.transform(df_test).select('text','label',\"prediction.result\").toPandas()\n",
        "pd_result['result'] = pd_result['result'].apply(lambda x: x[0]).astype('int')\n",
        "# pd_result.head(20)"
      ],
      "metadata": {
        "id": "aUiAqrqK73fD"
      },
      "execution_count": 15,
      "outputs": []
    },
    {
      "cell_type": "code",
      "source": [
        "from sklearn.metrics import classification_report, accuracy_score\n",
        "\n",
        "print(classification_report(pd_result.label, pd_result.result))\n",
        "print(accuracy_score(pd_result.label, pd_result.result))"
      ],
      "metadata": {
        "colab": {
          "base_uri": "https://localhost:8080/"
        },
        "id": "vbEK10Mu7505",
        "outputId": "bcd29c86-136a-4136-c7fc-52e229236398"
      },
      "execution_count": 16,
      "outputs": [
        {
          "output_type": "stream",
          "name": "stdout",
          "text": [
            "              precision    recall  f1-score   support\n",
            "\n",
            "           0       0.77      0.85      0.81       264\n",
            "           1       0.70      0.57      0.63       156\n",
            "\n",
            "    accuracy                           0.75       420\n",
            "   macro avg       0.73      0.71      0.72       420\n",
            "weighted avg       0.74      0.75      0.74       420\n",
            "\n",
            "0.7476190476190476\n"
          ]
        }
      ]
    },
    {
      "cell_type": "code",
      "source": [
        "del clf_pipeline, clf_pipelineModel, pd_result"
      ],
      "metadata": {
        "id": "cd_dheQENWfP"
      },
      "execution_count": 17,
      "outputs": []
    },
    {
      "cell_type": "code",
      "source": [
        "import gc\n",
        "\n",
        "gc.collect()"
      ],
      "metadata": {
        "colab": {
          "base_uri": "https://localhost:8080/"
        },
        "id": "u8G3CsTdNh2_",
        "outputId": "f108eda3-e8f9-4460-e06e-2f6ffe148f61"
      },
      "execution_count": 18,
      "outputs": [
        {
          "output_type": "execute_result",
          "data": {
            "text/plain": [
              "167"
            ]
          },
          "metadata": {},
          "execution_count": 18
        }
      ]
    },
    {
      "cell_type": "markdown",
      "source": [
        "# From tokens-2"
      ],
      "metadata": {
        "id": "FdSZWLdTolVE"
      }
    },
    {
      "cell_type": "code",
      "source": [
        "document_assembler = DocumentAssembler() \\\n",
        "      .setInputCol(\"text\") \\\n",
        "      .setOutputCol(\"document\")\n",
        "    \n",
        "tokenizer = Tokenizer() \\\n",
        "      .setInputCols([\"document\"]) \\\n",
        "      .setOutputCol(\"token\")\n",
        "    \n",
        "normalizer = Normalizer() \\\n",
        "      .setInputCols([\"token\"]) \\\n",
        "      .setOutputCol(\"normalized\")\\\n",
        "      .setLowercase(True)\\\n",
        "\n",
        "embeddings = AlbertEmbeddings.pretrained(\"albert_large_uncased\", \"en\") \\\n",
        "      .setInputCols([\"document\",'normalized'])\\\n",
        "      .setOutputCol(\"embeddings\")\\\n",
        "      .setCaseSensitive(False)\n",
        "\n",
        "embeddingsSentence = SentenceEmbeddings() \\\n",
        "      .setInputCols([\"document\", \"embeddings\"]) \\\n",
        "      .setOutputCol(\"sentence_embeddings\") \\\n",
        "      .setPoolingStrategy(\"AVERAGE\")\n",
        "\n",
        "classsifierdl = ClassifierDLApproach()\\\n",
        "        .setInputCols([\"sentence_embeddings\"])\\\n",
        "        .setOutputCol(\"prediction\")\\\n",
        "        .setLabelColumn(\"label\")\\\n",
        "        .setEnableOutputLogs(True)\\\n",
        "        .setBatchSize(64)\\\n",
        "        .setMaxEpochs(48)\\\n",
        "        .setLr(0.0003)\\\n",
        "        .setOutputLogsPath('./clf_log')\\\n",
        "        .setEnableOutputLogs(True)\n",
        "\n",
        "clf2_pipeline = Pipeline(\n",
        "    stages=[document_assembler, \n",
        "            tokenizer,\n",
        "            normalizer,\n",
        "            embeddings,\n",
        "            embeddingsSentence,\n",
        "            classsifierdl])"
      ],
      "metadata": {
        "id": "RAdPNuWYopVc",
        "outputId": "71ed6ad4-b4ec-4813-e172-a8ee27caa19d",
        "colab": {
          "base_uri": "https://localhost:8080/"
        }
      },
      "execution_count": 19,
      "outputs": [
        {
          "output_type": "stream",
          "name": "stdout",
          "text": [
            "albert_large_uncased download started this may take some time.\n",
            "Approximate size to download 64.5 MB\n",
            "[OK!]\n"
          ]
        }
      ]
    },
    {
      "cell_type": "code",
      "source": [
        "clf2_pipelineModel = clf2_pipeline.fit(df_train)"
      ],
      "metadata": {
        "id": "YA0JUYkaoxhe"
      },
      "execution_count": 20,
      "outputs": []
    },
    {
      "cell_type": "code",
      "source": [
        "pd_result = clf2_pipelineModel.transform(df_test).select('text','label',\"prediction.result\").toPandas()\n",
        "pd_result['result'] = pd_result['result'].apply(lambda x: x[0]).astype('int')\n",
        "# pd_result.head(20)"
      ],
      "metadata": {
        "id": "5Q-sr_bfoxeE"
      },
      "execution_count": 21,
      "outputs": []
    },
    {
      "cell_type": "code",
      "source": [
        "from sklearn.metrics import classification_report, accuracy_score\n"
      ],
      "metadata": {
        "id": "10OlWXTnwGEc"
      },
      "execution_count": 22,
      "outputs": []
    },
    {
      "cell_type": "code",
      "source": [
        "print(classification_report(pd_result.label, pd_result.result))\n",
        "print(accuracy_score(pd_result.label, pd_result.result))"
      ],
      "metadata": {
        "id": "HdFiJc3ioxZ1",
        "outputId": "aafddf71-ed26-45d4-da83-ac44a6b1f736",
        "colab": {
          "base_uri": "https://localhost:8080/"
        }
      },
      "execution_count": 23,
      "outputs": [
        {
          "output_type": "stream",
          "name": "stdout",
          "text": [
            "              precision    recall  f1-score   support\n",
            "\n",
            "           0       0.80      0.84      0.82       264\n",
            "           1       0.70      0.64      0.67       156\n",
            "\n",
            "    accuracy                           0.76       420\n",
            "   macro avg       0.75      0.74      0.74       420\n",
            "weighted avg       0.76      0.76      0.76       420\n",
            "\n",
            "0.7642857142857142\n"
          ]
        }
      ]
    },
    {
      "cell_type": "code",
      "source": [
        "del clf2_pipeline, clf2_pipelineModel, pd_result"
      ],
      "metadata": {
        "id": "_Ez_H-rmS9wQ"
      },
      "execution_count": 24,
      "outputs": []
    },
    {
      "cell_type": "code",
      "source": [
        "import gc\n",
        "\n",
        "gc.collect()"
      ],
      "metadata": {
        "colab": {
          "base_uri": "https://localhost:8080/"
        },
        "id": "Flsk0QlVTCL-",
        "outputId": "89a4b219-41c4-4044-a9eb-f73b658bc5da"
      },
      "execution_count": 25,
      "outputs": [
        {
          "output_type": "execute_result",
          "data": {
            "text/plain": [
              "884"
            ]
          },
          "metadata": {},
          "execution_count": 25
        }
      ]
    },
    {
      "cell_type": "markdown",
      "source": [
        "# USE embeddings"
      ],
      "metadata": {
        "id": "trKgWvFK51W3"
      }
    },
    {
      "cell_type": "code",
      "source": [
        "document = DocumentAssembler()\\\n",
        "    .setInputCol(\"text\")\\\n",
        "    .setOutputCol(\"document\")\n",
        "\n",
        "use = UniversalSentenceEncoder.pretrained()\\\n",
        "      .setInputCols(\"document\")\\\n",
        "      .setOutputCol(\"sentence_embeddings\")\n",
        "\n",
        "# the classes/labels/categories are in category column\n",
        "classsifierdl = ClassifierDLApproach()\\\n",
        "    .setInputCols([\"sentence_embeddings\"])\\\n",
        "    .setOutputCol(\"prediction\")\\\n",
        "    .setLabelColumn(\"label\")\\\n",
        "    .setMaxEpochs(20)\\\n",
        "    .setEnableOutputLogs(True)\n",
        "\n",
        "use_pipeline = Pipeline(\n",
        "    stages = [\n",
        "        document,\n",
        "        use,\n",
        "        classsifierdl\n",
        "    ])"
      ],
      "metadata": {
        "colab": {
          "base_uri": "https://localhost:8080/"
        },
        "id": "MmuJYLCBGurE",
        "outputId": "f514b59e-7805-4c0c-a6af-4aa3ecd27b45"
      },
      "execution_count": 26,
      "outputs": [
        {
          "output_type": "stream",
          "name": "stdout",
          "text": [
            "tfhub_use download started this may take some time.\n",
            "Approximate size to download 923.7 MB\n",
            "[OK!]\n"
          ]
        }
      ]
    },
    {
      "cell_type": "code",
      "source": [
        "use_pipelineModel = use_pipeline.fit(df_train)"
      ],
      "metadata": {
        "id": "dtnPn7vtHEZX"
      },
      "execution_count": 27,
      "outputs": []
    },
    {
      "cell_type": "code",
      "source": [
        "pd_result_train = use_pipelineModel.transform(df_train).select('text','label',\"prediction.result\").toPandas()\n",
        "pd_result_train['result'] = pd_result_train['result'].apply(lambda x: x[0]).astype('int')\n",
        "# pd_result_train.head(20)"
      ],
      "metadata": {
        "id": "JNWt7iQUVGpZ"
      },
      "execution_count": 28,
      "outputs": []
    },
    {
      "cell_type": "code",
      "source": [
        ""
      ],
      "metadata": {
        "id": "qmeYrufFVKyd"
      },
      "execution_count": 28,
      "outputs": []
    },
    {
      "cell_type": "code",
      "source": [
        "pd_result = use_pipelineModel.transform(df_test).select('text','label',\"prediction.result\").toPandas()\n",
        "pd_result['result'] = pd_result['result'].apply(lambda x: x[0]).astype('int')\n",
        "# pd_result.head(20)"
      ],
      "metadata": {
        "id": "kpksJjfXHEZf"
      },
      "execution_count": 29,
      "outputs": []
    },
    {
      "cell_type": "code",
      "source": [
        "#test scores\n",
        "from sklearn.metrics import classification_report, accuracy_score\n",
        "\n",
        "print(classification_report(pd_result.label, pd_result.result))\n",
        "print(accuracy_score(pd_result.label, pd_result.result))"
      ],
      "metadata": {
        "colab": {
          "base_uri": "https://localhost:8080/"
        },
        "outputId": "7e3fa4af-0c6f-48d9-bfb4-52e59c5f5fbd",
        "id": "iPO4pkflHEZf"
      },
      "execution_count": 30,
      "outputs": [
        {
          "output_type": "stream",
          "name": "stdout",
          "text": [
            "              precision    recall  f1-score   support\n",
            "\n",
            "           0       0.82      0.76      0.79       264\n",
            "           1       0.64      0.72      0.68       156\n",
            "\n",
            "    accuracy                           0.75       420\n",
            "   macro avg       0.73      0.74      0.73       420\n",
            "weighted avg       0.75      0.75      0.75       420\n",
            "\n",
            "0.7452380952380953\n"
          ]
        }
      ]
    },
    {
      "cell_type": "code",
      "source": [
        "#train scores\n",
        "print(classification_report(pd_result_train.label, pd_result_train.result))\n",
        "print(accuracy_score(pd_result_train.label, pd_result_train.result))"
      ],
      "metadata": {
        "colab": {
          "base_uri": "https://localhost:8080/"
        },
        "id": "B9QjEPQOGulX",
        "outputId": "6caebd60-dde3-4b17-fc6d-425a2aca9ca5"
      },
      "execution_count": 31,
      "outputs": [
        {
          "output_type": "stream",
          "name": "stdout",
          "text": [
            "              precision    recall  f1-score   support\n",
            "\n",
            "           0       0.90      0.88      0.89      1844\n",
            "           1       0.80      0.84      0.82      1092\n",
            "\n",
            "    accuracy                           0.86      2936\n",
            "   macro avg       0.85      0.86      0.85      2936\n",
            "weighted avg       0.86      0.86      0.86      2936\n",
            "\n",
            "0.8630790190735694\n"
          ]
        }
      ]
    },
    {
      "cell_type": "code",
      "source": [
        "del use_pipeline, use_pipelineModel, pd_result"
      ],
      "metadata": {
        "id": "zfrYYy_xJEIU"
      },
      "execution_count": 32,
      "outputs": []
    },
    {
      "cell_type": "code",
      "source": [
        "import gc\n",
        "\n",
        "gc.collect()"
      ],
      "metadata": {
        "id": "1QKYFzpTKjC9",
        "colab": {
          "base_uri": "https://localhost:8080/"
        },
        "outputId": "8fa67f29-80fe-4d48-efc5-5466c2e930c8"
      },
      "execution_count": 33,
      "outputs": [
        {
          "output_type": "execute_result",
          "data": {
            "text/plain": [
              "547"
            ]
          },
          "metadata": {},
          "execution_count": 33
        }
      ]
    },
    {
      "cell_type": "markdown",
      "source": [
        "# Bert embeddings"
      ],
      "metadata": {
        "id": "QXRzndGt6o5E"
      }
    },
    {
      "cell_type": "code",
      "source": [
        "document_assembler = DocumentAssembler()\\\n",
        "        .setInputCol(\"text\")\\\n",
        "        .setOutputCol(\"document\")\n",
        "        \n",
        "bert_sent = BertSentenceEmbeddings.pretrained(\"sent_biobert_clinical_base_cased\")\\\n",
        "      .setInputCols([\"document\"])\\\n",
        "      .setOutputCol(\"sentence_embeddings\")\n",
        "\n",
        "classsifier_dl = ClassifierDLApproach()\\\n",
        "      .setInputCols([\"sentence_embeddings\"])\\\n",
        "      .setOutputCol(\"prediction\")\\\n",
        "      .setLabelColumn(\"label\")\\\n",
        "      .setMaxEpochs(50)\\\n",
        "      .setBatchSize(32)\\\n",
        "      .setEnableOutputLogs(True)\\\n",
        "      .setLr(0.0005)\\\n",
        "      .setDropout(0.2)\n",
        "\n",
        "bert_sent_clf_pipeline = Pipeline(\n",
        "    stages = [\n",
        "        document_assembler,\n",
        "        bert_sent,\n",
        "        classsifier_dl\n",
        "    ])"
      ],
      "metadata": {
        "colab": {
          "base_uri": "https://localhost:8080/"
        },
        "id": "YZM-uZNfKi9t",
        "outputId": "8d545857-583d-4d14-8528-e0d9621f8659"
      },
      "execution_count": 34,
      "outputs": [
        {
          "output_type": "stream",
          "name": "stdout",
          "text": [
            "sent_biobert_clinical_base_cased download started this may take some time.\n",
            "Approximate size to download 386.6 MB\n",
            "[OK!]\n"
          ]
        }
      ]
    },
    {
      "cell_type": "code",
      "source": [
        "bert_pipelineModel = bert_sent_clf_pipeline.fit(df_train)"
      ],
      "metadata": {
        "id": "lVWH7iizK3CQ"
      },
      "execution_count": 35,
      "outputs": []
    },
    {
      "cell_type": "code",
      "source": [
        "pd_result = bert_pipelineModel.transform(df_test).select('text','label',\"prediction.result\").toPandas()\n",
        "pd_result['result'] = pd_result['result'].apply(lambda x: x[0]).astype('int')\n",
        "pd_result.head(20)"
      ],
      "metadata": {
        "colab": {
          "base_uri": "https://localhost:8080/",
          "height": 677
        },
        "outputId": "fd044a63-56ef-4846-8ab8-b44e34566453",
        "id": "skNKmL1eK3CQ"
      },
      "execution_count": 36,
      "outputs": [
        {
          "output_type": "execute_result",
          "data": {
            "text/plain": [
              "                                                 text  label  result\n",
              "0   Diastolic blood pressure measure Chronic Physi...      0       0\n",
              "1   i live in constant stress over these cans of s...      1       0\n",
              "2     i’m constantly stressed over absolutely NOTHING      1       1\n",
              "3   I genuinely cannot wait to be done with colleg...      1       1\n",
              "4              I don’t wanna die from chronic stress       0       1\n",
              "5   With all this constant stress, I barely have t...      1       1\n",
              "6   i have been in a constant state of stress sinc...      1       1\n",
              "7   the fact that im constantly getting older stre...      0       0\n",
              "8   I cannot sleep due to my constant stress. I ca...      1       1\n",
              "9   Naaaa this winter season is all cute until ur ...      0       0\n",
              "10   And there's several more studies on physiolog...      0       0\n",
              "11                     Constant stress and depression      0       0\n",
              "12   Step 1 of winning a fight against a virus; no...      0       0\n",
              "13   I wouldn’t want to know. I’d be constantly st...      0       1\n",
              "14  wonder what it’s like to not be constantly str...      1       0\n",
              "15  It’s like some people live to constantly stres...      1       0\n",
              "16  It all makes sense! Apparently I have been chr...      1       1\n",
              "17  The stress of when to fake tan next week is ta...      1       0\n",
              "18  i constantly stress about wtf i’m gonna do whe...      1       0\n",
              "19  \"Is Social Media Stressing You Out?\" Constantl...      0       0"
            ],
            "text/html": [
              "\n",
              "  <div id=\"df-d4fd56b9-1c8b-46b0-856b-14df9d387d14\">\n",
              "    <div class=\"colab-df-container\">\n",
              "      <div>\n",
              "<style scoped>\n",
              "    .dataframe tbody tr th:only-of-type {\n",
              "        vertical-align: middle;\n",
              "    }\n",
              "\n",
              "    .dataframe tbody tr th {\n",
              "        vertical-align: top;\n",
              "    }\n",
              "\n",
              "    .dataframe thead th {\n",
              "        text-align: right;\n",
              "    }\n",
              "</style>\n",
              "<table border=\"1\" class=\"dataframe\">\n",
              "  <thead>\n",
              "    <tr style=\"text-align: right;\">\n",
              "      <th></th>\n",
              "      <th>text</th>\n",
              "      <th>label</th>\n",
              "      <th>result</th>\n",
              "    </tr>\n",
              "  </thead>\n",
              "  <tbody>\n",
              "    <tr>\n",
              "      <th>0</th>\n",
              "      <td>Diastolic blood pressure measure Chronic Physi...</td>\n",
              "      <td>0</td>\n",
              "      <td>0</td>\n",
              "    </tr>\n",
              "    <tr>\n",
              "      <th>1</th>\n",
              "      <td>i live in constant stress over these cans of s...</td>\n",
              "      <td>1</td>\n",
              "      <td>0</td>\n",
              "    </tr>\n",
              "    <tr>\n",
              "      <th>2</th>\n",
              "      <td>i’m constantly stressed over absolutely NOTHING</td>\n",
              "      <td>1</td>\n",
              "      <td>1</td>\n",
              "    </tr>\n",
              "    <tr>\n",
              "      <th>3</th>\n",
              "      <td>I genuinely cannot wait to be done with colleg...</td>\n",
              "      <td>1</td>\n",
              "      <td>1</td>\n",
              "    </tr>\n",
              "    <tr>\n",
              "      <th>4</th>\n",
              "      <td>I don’t wanna die from chronic stress</td>\n",
              "      <td>0</td>\n",
              "      <td>1</td>\n",
              "    </tr>\n",
              "    <tr>\n",
              "      <th>5</th>\n",
              "      <td>With all this constant stress, I barely have t...</td>\n",
              "      <td>1</td>\n",
              "      <td>1</td>\n",
              "    </tr>\n",
              "    <tr>\n",
              "      <th>6</th>\n",
              "      <td>i have been in a constant state of stress sinc...</td>\n",
              "      <td>1</td>\n",
              "      <td>1</td>\n",
              "    </tr>\n",
              "    <tr>\n",
              "      <th>7</th>\n",
              "      <td>the fact that im constantly getting older stre...</td>\n",
              "      <td>0</td>\n",
              "      <td>0</td>\n",
              "    </tr>\n",
              "    <tr>\n",
              "      <th>8</th>\n",
              "      <td>I cannot sleep due to my constant stress. I ca...</td>\n",
              "      <td>1</td>\n",
              "      <td>1</td>\n",
              "    </tr>\n",
              "    <tr>\n",
              "      <th>9</th>\n",
              "      <td>Naaaa this winter season is all cute until ur ...</td>\n",
              "      <td>0</td>\n",
              "      <td>0</td>\n",
              "    </tr>\n",
              "    <tr>\n",
              "      <th>10</th>\n",
              "      <td>And there's several more studies on physiolog...</td>\n",
              "      <td>0</td>\n",
              "      <td>0</td>\n",
              "    </tr>\n",
              "    <tr>\n",
              "      <th>11</th>\n",
              "      <td>Constant stress and depression</td>\n",
              "      <td>0</td>\n",
              "      <td>0</td>\n",
              "    </tr>\n",
              "    <tr>\n",
              "      <th>12</th>\n",
              "      <td>Step 1 of winning a fight against a virus; no...</td>\n",
              "      <td>0</td>\n",
              "      <td>0</td>\n",
              "    </tr>\n",
              "    <tr>\n",
              "      <th>13</th>\n",
              "      <td>I wouldn’t want to know. I’d be constantly st...</td>\n",
              "      <td>0</td>\n",
              "      <td>1</td>\n",
              "    </tr>\n",
              "    <tr>\n",
              "      <th>14</th>\n",
              "      <td>wonder what it’s like to not be constantly str...</td>\n",
              "      <td>1</td>\n",
              "      <td>0</td>\n",
              "    </tr>\n",
              "    <tr>\n",
              "      <th>15</th>\n",
              "      <td>It’s like some people live to constantly stres...</td>\n",
              "      <td>1</td>\n",
              "      <td>0</td>\n",
              "    </tr>\n",
              "    <tr>\n",
              "      <th>16</th>\n",
              "      <td>It all makes sense! Apparently I have been chr...</td>\n",
              "      <td>1</td>\n",
              "      <td>1</td>\n",
              "    </tr>\n",
              "    <tr>\n",
              "      <th>17</th>\n",
              "      <td>The stress of when to fake tan next week is ta...</td>\n",
              "      <td>1</td>\n",
              "      <td>0</td>\n",
              "    </tr>\n",
              "    <tr>\n",
              "      <th>18</th>\n",
              "      <td>i constantly stress about wtf i’m gonna do whe...</td>\n",
              "      <td>1</td>\n",
              "      <td>0</td>\n",
              "    </tr>\n",
              "    <tr>\n",
              "      <th>19</th>\n",
              "      <td>\"Is Social Media Stressing You Out?\" Constantl...</td>\n",
              "      <td>0</td>\n",
              "      <td>0</td>\n",
              "    </tr>\n",
              "  </tbody>\n",
              "</table>\n",
              "</div>\n",
              "      <button class=\"colab-df-convert\" onclick=\"convertToInteractive('df-d4fd56b9-1c8b-46b0-856b-14df9d387d14')\"\n",
              "              title=\"Convert this dataframe to an interactive table.\"\n",
              "              style=\"display:none;\">\n",
              "        \n",
              "  <svg xmlns=\"http://www.w3.org/2000/svg\" height=\"24px\"viewBox=\"0 0 24 24\"\n",
              "       width=\"24px\">\n",
              "    <path d=\"M0 0h24v24H0V0z\" fill=\"none\"/>\n",
              "    <path d=\"M18.56 5.44l.94 2.06.94-2.06 2.06-.94-2.06-.94-.94-2.06-.94 2.06-2.06.94zm-11 1L8.5 8.5l.94-2.06 2.06-.94-2.06-.94L8.5 2.5l-.94 2.06-2.06.94zm10 10l.94 2.06.94-2.06 2.06-.94-2.06-.94-.94-2.06-.94 2.06-2.06.94z\"/><path d=\"M17.41 7.96l-1.37-1.37c-.4-.4-.92-.59-1.43-.59-.52 0-1.04.2-1.43.59L10.3 9.45l-7.72 7.72c-.78.78-.78 2.05 0 2.83L4 21.41c.39.39.9.59 1.41.59.51 0 1.02-.2 1.41-.59l7.78-7.78 2.81-2.81c.8-.78.8-2.07 0-2.86zM5.41 20L4 18.59l7.72-7.72 1.47 1.35L5.41 20z\"/>\n",
              "  </svg>\n",
              "      </button>\n",
              "      \n",
              "  <style>\n",
              "    .colab-df-container {\n",
              "      display:flex;\n",
              "      flex-wrap:wrap;\n",
              "      gap: 12px;\n",
              "    }\n",
              "\n",
              "    .colab-df-convert {\n",
              "      background-color: #E8F0FE;\n",
              "      border: none;\n",
              "      border-radius: 50%;\n",
              "      cursor: pointer;\n",
              "      display: none;\n",
              "      fill: #1967D2;\n",
              "      height: 32px;\n",
              "      padding: 0 0 0 0;\n",
              "      width: 32px;\n",
              "    }\n",
              "\n",
              "    .colab-df-convert:hover {\n",
              "      background-color: #E2EBFA;\n",
              "      box-shadow: 0px 1px 2px rgba(60, 64, 67, 0.3), 0px 1px 3px 1px rgba(60, 64, 67, 0.15);\n",
              "      fill: #174EA6;\n",
              "    }\n",
              "\n",
              "    [theme=dark] .colab-df-convert {\n",
              "      background-color: #3B4455;\n",
              "      fill: #D2E3FC;\n",
              "    }\n",
              "\n",
              "    [theme=dark] .colab-df-convert:hover {\n",
              "      background-color: #434B5C;\n",
              "      box-shadow: 0px 1px 3px 1px rgba(0, 0, 0, 0.15);\n",
              "      filter: drop-shadow(0px 1px 2px rgba(0, 0, 0, 0.3));\n",
              "      fill: #FFFFFF;\n",
              "    }\n",
              "  </style>\n",
              "\n",
              "      <script>\n",
              "        const buttonEl =\n",
              "          document.querySelector('#df-d4fd56b9-1c8b-46b0-856b-14df9d387d14 button.colab-df-convert');\n",
              "        buttonEl.style.display =\n",
              "          google.colab.kernel.accessAllowed ? 'block' : 'none';\n",
              "\n",
              "        async function convertToInteractive(key) {\n",
              "          const element = document.querySelector('#df-d4fd56b9-1c8b-46b0-856b-14df9d387d14');\n",
              "          const dataTable =\n",
              "            await google.colab.kernel.invokeFunction('convertToInteractive',\n",
              "                                                     [key], {});\n",
              "          if (!dataTable) return;\n",
              "\n",
              "          const docLinkHtml = 'Like what you see? Visit the ' +\n",
              "            '<a target=\"_blank\" href=https://colab.research.google.com/notebooks/data_table.ipynb>data table notebook</a>'\n",
              "            + ' to learn more about interactive tables.';\n",
              "          element.innerHTML = '';\n",
              "          dataTable['output_type'] = 'display_data';\n",
              "          await google.colab.output.renderOutput(dataTable, element);\n",
              "          const docLink = document.createElement('div');\n",
              "          docLink.innerHTML = docLinkHtml;\n",
              "          element.appendChild(docLink);\n",
              "        }\n",
              "      </script>\n",
              "    </div>\n",
              "  </div>\n",
              "  "
            ]
          },
          "metadata": {},
          "execution_count": 36
        }
      ]
    },
    {
      "cell_type": "code",
      "source": [
        "print(classification_report(pd_result.label, pd_result.result))\n",
        "print(accuracy_score(pd_result.label, pd_result.result))"
      ],
      "metadata": {
        "colab": {
          "base_uri": "https://localhost:8080/"
        },
        "outputId": "b64b2c1b-b19e-40a0-f3af-a4b66884db1d",
        "id": "d6_T3mAeK3CR"
      },
      "execution_count": 37,
      "outputs": [
        {
          "output_type": "stream",
          "name": "stdout",
          "text": [
            "              precision    recall  f1-score   support\n",
            "\n",
            "           0       0.78      0.79      0.79       264\n",
            "           1       0.64      0.62      0.63       156\n",
            "\n",
            "    accuracy                           0.73       420\n",
            "   macro avg       0.71      0.71      0.71       420\n",
            "weighted avg       0.73      0.73      0.73       420\n",
            "\n",
            "0.7285714285714285\n"
          ]
        }
      ]
    },
    {
      "cell_type": "code",
      "source": [
        ""
      ],
      "metadata": {
        "id": "K6B3_HMMK3CR"
      },
      "execution_count": 37,
      "outputs": []
    },
    {
      "cell_type": "markdown",
      "source": [
        "# Longformer"
      ],
      "metadata": {
        "id": "oK85OfmVAzQ3"
      }
    },
    {
      "cell_type": "code",
      "source": [
        "document_assembler = DocumentAssembler()\\\n",
        "    .setInputCol(\"text\")\\\n",
        "    .setOutputCol(\"document\")\n",
        "\n",
        "tokenizer = Tokenizer()\\\n",
        "    .setInputCols([\"document\"])\\\n",
        "    .setOutputCol(\"token\")\n",
        "\n",
        "lf_embeddings = LongformerEmbeddings.pretrained(\"clinical_longformer\", \"en\")\\\n",
        "  .setInputCols([\"document\", \"token\"])\\\n",
        "  .setOutputCol(\"embeddings\")\\\n",
        "  .setCaseSensitive(False)\\\n",
        "  .setMaxSentenceLength(512)\n",
        "\n",
        "embeddingsSentence = SentenceEmbeddings() \\\n",
        "    .setInputCols([\"document\", \"embeddings\"]) \\\n",
        "    .setOutputCol(\"sentence_embeddings\") \\\n",
        "    .setPoolingStrategy(\"AVERAGE\")\n",
        "\n",
        "classifierdl = ClassifierDLApproach()\\\n",
        "    .setInputCols([\"sentence_embeddings\"])\\\n",
        "    .setOutputCol(\"prediction\")\\\n",
        "    .setLabelColumn(\"label\")\\\n",
        "    .setBatchSize(8)\\\n",
        "    .setEnableOutputLogs(True)\\\n",
        "    .setMaxEpochs(64)\\\n",
        "    .setLr(0.003)\\\n",
        "    .setDropout(0.3)\n",
        "\n",
        "lf_pipeline = Pipeline(\n",
        "               stages = [\n",
        "                    document_assembler,\n",
        "                    tokenizer,\n",
        "                    lf_embeddings,\n",
        "                    embeddingsSentence,\n",
        "                    classifierdl\n",
        "               ])"
      ],
      "metadata": {
        "colab": {
          "base_uri": "https://localhost:8080/"
        },
        "id": "88gheLnZA00P",
        "outputId": "f1d3f4b4-cbec-4c90-89b3-1346e9d520d4"
      },
      "execution_count": null,
      "outputs": [
        {
          "output_type": "stream",
          "name": "stdout",
          "text": [
            "clinical_longformer download started this may take some time.\n",
            "Approximate size to download 510.1 MB\n",
            "[ \\ ]"
          ]
        }
      ]
    },
    {
      "cell_type": "code",
      "source": [
        ""
      ],
      "metadata": {
        "id": "zTnKPIPYBBDN"
      },
      "execution_count": null,
      "outputs": []
    },
    {
      "cell_type": "code",
      "source": [
        "lf_pipelineModel = lf_pipeline.fit(df_train)"
      ],
      "metadata": {
        "id": "AVOADrIiBBUE"
      },
      "execution_count": null,
      "outputs": []
    },
    {
      "cell_type": "code",
      "source": [
        "pd_result = lf_pipelineModel.transform(df_test).select('text','label',\"prediction.result\").toPandas()\n",
        "pd_result['result'] = pd_result['result'].apply(lambda x: x[0]).astype('int')\n",
        "pd_result.head(20)"
      ],
      "metadata": {
        "id": "BTvQ1ACoBBUE"
      },
      "execution_count": null,
      "outputs": []
    },
    {
      "cell_type": "code",
      "source": [
        "from sklearn.metrics import classification_report, accuracy_score\n",
        "\n",
        "print(classification_report(pd_result.label, pd_result.result))\n",
        "print(accuracy_score(pd_result.label, pd_result.result))"
      ],
      "metadata": {
        "id": "CaRCrOJlBBUE"
      },
      "execution_count": null,
      "outputs": []
    },
    {
      "cell_type": "markdown",
      "source": [
        "# Roberta"
      ],
      "metadata": {
        "id": "hYiuVX2j7bLu"
      }
    },
    {
      "cell_type": "code",
      "source": [
        "document_assembler = DocumentAssembler()\\\n",
        "        .setInputCol(\"text\")\\\n",
        "        .setOutputCol(\"document\")\n",
        "        \n",
        "embeddings = RoBertaSentenceEmbeddings.pretrained(\"sent_roberta_large\", \"en\") \\\n",
        "      .setInputCols(\"document\") \\\n",
        "      .setOutputCol(\"sentence_embeddings\")\n",
        "\n",
        "classsifier_dl = ClassifierDLApproach()\\\n",
        "      .setInputCols([\"sentence_embeddings\"])\\\n",
        "      .setOutputCol(\"prediction\")\\\n",
        "      .setLabelColumn(\"label\")\\\n",
        "      .setMaxEpochs(30)\\\n",
        "      .setBatchSize(32)\\\n",
        "      .setEnableOutputLogs(True)\\\n",
        "      .setLr(0.0005)\\\n",
        "      .setDropout(0.4)\n",
        "\n",
        "robert_sent_clf_pipeline = Pipeline(\n",
        "    stages = [\n",
        "        document_assembler,\n",
        "        embeddings,\n",
        "        classsifier_dl\n",
        "    ])"
      ],
      "metadata": {
        "id": "0IB8Awr1kaM6",
        "outputId": "5a5524c5-f600-4b1d-9b1a-616c8fd937c4",
        "colab": {
          "base_uri": "https://localhost:8080/"
        }
      },
      "execution_count": 14,
      "outputs": [
        {
          "output_type": "stream",
          "name": "stdout",
          "text": [
            "sent_roberta_large download started this may take some time.\n",
            "Approximate size to download 801.7 MB\n",
            "[OK!]\n"
          ]
        }
      ]
    },
    {
      "cell_type": "code",
      "source": [
        "robert_pipelineModel = robert_sent_clf_pipeline.fit(df_train)"
      ],
      "metadata": {
        "id": "o2qtGIsWkfJP"
      },
      "execution_count": 15,
      "outputs": []
    },
    {
      "cell_type": "code",
      "source": [
        "pd_result = robert_pipelineModel.transform(df_test).select('text','label',\"prediction.result\").toPandas()\n",
        "pd_result['result'] = pd_result['result'].apply(lambda x: x[0]).astype('int')\n",
        "pd_result.head(20)"
      ],
      "metadata": {
        "id": "hVg26YEbkr1i",
        "outputId": "a97fed8b-f657-4500-c318-78eb3dbef44b",
        "colab": {
          "base_uri": "https://localhost:8080/",
          "height": 677
        }
      },
      "execution_count": 16,
      "outputs": [
        {
          "output_type": "execute_result",
          "data": {
            "text/plain": [
              "                                                 text  label  result\n",
              "0   Diastolic blood pressure measure Chronic Physi...      0       0\n",
              "1   i live in constant stress over these cans of s...      1       0\n",
              "2     i’m constantly stressed over absolutely NOTHING      1       0\n",
              "3   I genuinely cannot wait to be done with colleg...      1       0\n",
              "4              I don’t wanna die from chronic stress       0       0\n",
              "5   With all this constant stress, I barely have t...      1       0\n",
              "6   i have been in a constant state of stress sinc...      1       0\n",
              "7   the fact that im constantly getting older stre...      0       0\n",
              "8   I cannot sleep due to my constant stress. I ca...      1       0\n",
              "9   Naaaa this winter season is all cute until ur ...      0       0\n",
              "10   And there's several more studies on physiolog...      0       0\n",
              "11                     Constant stress and depression      0       0\n",
              "12   Step 1 of winning a fight against a virus; no...      0       0\n",
              "13   I wouldn’t want to know. I’d be constantly st...      0       0\n",
              "14  wonder what it’s like to not be constantly str...      1       0\n",
              "15  It’s like some people live to constantly stres...      1       0\n",
              "16  It all makes sense! Apparently I have been chr...      1       0\n",
              "17  The stress of when to fake tan next week is ta...      1       0\n",
              "18  i constantly stress about wtf i’m gonna do whe...      1       0\n",
              "19  \"Is Social Media Stressing You Out?\" Constantl...      0       0"
            ],
            "text/html": [
              "\n",
              "  <div id=\"df-8a2a1ce5-eb8e-402b-8d3e-cc64c26a8cbb\">\n",
              "    <div class=\"colab-df-container\">\n",
              "      <div>\n",
              "<style scoped>\n",
              "    .dataframe tbody tr th:only-of-type {\n",
              "        vertical-align: middle;\n",
              "    }\n",
              "\n",
              "    .dataframe tbody tr th {\n",
              "        vertical-align: top;\n",
              "    }\n",
              "\n",
              "    .dataframe thead th {\n",
              "        text-align: right;\n",
              "    }\n",
              "</style>\n",
              "<table border=\"1\" class=\"dataframe\">\n",
              "  <thead>\n",
              "    <tr style=\"text-align: right;\">\n",
              "      <th></th>\n",
              "      <th>text</th>\n",
              "      <th>label</th>\n",
              "      <th>result</th>\n",
              "    </tr>\n",
              "  </thead>\n",
              "  <tbody>\n",
              "    <tr>\n",
              "      <th>0</th>\n",
              "      <td>Diastolic blood pressure measure Chronic Physi...</td>\n",
              "      <td>0</td>\n",
              "      <td>0</td>\n",
              "    </tr>\n",
              "    <tr>\n",
              "      <th>1</th>\n",
              "      <td>i live in constant stress over these cans of s...</td>\n",
              "      <td>1</td>\n",
              "      <td>0</td>\n",
              "    </tr>\n",
              "    <tr>\n",
              "      <th>2</th>\n",
              "      <td>i’m constantly stressed over absolutely NOTHING</td>\n",
              "      <td>1</td>\n",
              "      <td>0</td>\n",
              "    </tr>\n",
              "    <tr>\n",
              "      <th>3</th>\n",
              "      <td>I genuinely cannot wait to be done with colleg...</td>\n",
              "      <td>1</td>\n",
              "      <td>0</td>\n",
              "    </tr>\n",
              "    <tr>\n",
              "      <th>4</th>\n",
              "      <td>I don’t wanna die from chronic stress</td>\n",
              "      <td>0</td>\n",
              "      <td>0</td>\n",
              "    </tr>\n",
              "    <tr>\n",
              "      <th>5</th>\n",
              "      <td>With all this constant stress, I barely have t...</td>\n",
              "      <td>1</td>\n",
              "      <td>0</td>\n",
              "    </tr>\n",
              "    <tr>\n",
              "      <th>6</th>\n",
              "      <td>i have been in a constant state of stress sinc...</td>\n",
              "      <td>1</td>\n",
              "      <td>0</td>\n",
              "    </tr>\n",
              "    <tr>\n",
              "      <th>7</th>\n",
              "      <td>the fact that im constantly getting older stre...</td>\n",
              "      <td>0</td>\n",
              "      <td>0</td>\n",
              "    </tr>\n",
              "    <tr>\n",
              "      <th>8</th>\n",
              "      <td>I cannot sleep due to my constant stress. I ca...</td>\n",
              "      <td>1</td>\n",
              "      <td>0</td>\n",
              "    </tr>\n",
              "    <tr>\n",
              "      <th>9</th>\n",
              "      <td>Naaaa this winter season is all cute until ur ...</td>\n",
              "      <td>0</td>\n",
              "      <td>0</td>\n",
              "    </tr>\n",
              "    <tr>\n",
              "      <th>10</th>\n",
              "      <td>And there's several more studies on physiolog...</td>\n",
              "      <td>0</td>\n",
              "      <td>0</td>\n",
              "    </tr>\n",
              "    <tr>\n",
              "      <th>11</th>\n",
              "      <td>Constant stress and depression</td>\n",
              "      <td>0</td>\n",
              "      <td>0</td>\n",
              "    </tr>\n",
              "    <tr>\n",
              "      <th>12</th>\n",
              "      <td>Step 1 of winning a fight against a virus; no...</td>\n",
              "      <td>0</td>\n",
              "      <td>0</td>\n",
              "    </tr>\n",
              "    <tr>\n",
              "      <th>13</th>\n",
              "      <td>I wouldn’t want to know. I’d be constantly st...</td>\n",
              "      <td>0</td>\n",
              "      <td>0</td>\n",
              "    </tr>\n",
              "    <tr>\n",
              "      <th>14</th>\n",
              "      <td>wonder what it’s like to not be constantly str...</td>\n",
              "      <td>1</td>\n",
              "      <td>0</td>\n",
              "    </tr>\n",
              "    <tr>\n",
              "      <th>15</th>\n",
              "      <td>It’s like some people live to constantly stres...</td>\n",
              "      <td>1</td>\n",
              "      <td>0</td>\n",
              "    </tr>\n",
              "    <tr>\n",
              "      <th>16</th>\n",
              "      <td>It all makes sense! Apparently I have been chr...</td>\n",
              "      <td>1</td>\n",
              "      <td>0</td>\n",
              "    </tr>\n",
              "    <tr>\n",
              "      <th>17</th>\n",
              "      <td>The stress of when to fake tan next week is ta...</td>\n",
              "      <td>1</td>\n",
              "      <td>0</td>\n",
              "    </tr>\n",
              "    <tr>\n",
              "      <th>18</th>\n",
              "      <td>i constantly stress about wtf i’m gonna do whe...</td>\n",
              "      <td>1</td>\n",
              "      <td>0</td>\n",
              "    </tr>\n",
              "    <tr>\n",
              "      <th>19</th>\n",
              "      <td>\"Is Social Media Stressing You Out?\" Constantl...</td>\n",
              "      <td>0</td>\n",
              "      <td>0</td>\n",
              "    </tr>\n",
              "  </tbody>\n",
              "</table>\n",
              "</div>\n",
              "      <button class=\"colab-df-convert\" onclick=\"convertToInteractive('df-8a2a1ce5-eb8e-402b-8d3e-cc64c26a8cbb')\"\n",
              "              title=\"Convert this dataframe to an interactive table.\"\n",
              "              style=\"display:none;\">\n",
              "        \n",
              "  <svg xmlns=\"http://www.w3.org/2000/svg\" height=\"24px\"viewBox=\"0 0 24 24\"\n",
              "       width=\"24px\">\n",
              "    <path d=\"M0 0h24v24H0V0z\" fill=\"none\"/>\n",
              "    <path d=\"M18.56 5.44l.94 2.06.94-2.06 2.06-.94-2.06-.94-.94-2.06-.94 2.06-2.06.94zm-11 1L8.5 8.5l.94-2.06 2.06-.94-2.06-.94L8.5 2.5l-.94 2.06-2.06.94zm10 10l.94 2.06.94-2.06 2.06-.94-2.06-.94-.94-2.06-.94 2.06-2.06.94z\"/><path d=\"M17.41 7.96l-1.37-1.37c-.4-.4-.92-.59-1.43-.59-.52 0-1.04.2-1.43.59L10.3 9.45l-7.72 7.72c-.78.78-.78 2.05 0 2.83L4 21.41c.39.39.9.59 1.41.59.51 0 1.02-.2 1.41-.59l7.78-7.78 2.81-2.81c.8-.78.8-2.07 0-2.86zM5.41 20L4 18.59l7.72-7.72 1.47 1.35L5.41 20z\"/>\n",
              "  </svg>\n",
              "      </button>\n",
              "      \n",
              "  <style>\n",
              "    .colab-df-container {\n",
              "      display:flex;\n",
              "      flex-wrap:wrap;\n",
              "      gap: 12px;\n",
              "    }\n",
              "\n",
              "    .colab-df-convert {\n",
              "      background-color: #E8F0FE;\n",
              "      border: none;\n",
              "      border-radius: 50%;\n",
              "      cursor: pointer;\n",
              "      display: none;\n",
              "      fill: #1967D2;\n",
              "      height: 32px;\n",
              "      padding: 0 0 0 0;\n",
              "      width: 32px;\n",
              "    }\n",
              "\n",
              "    .colab-df-convert:hover {\n",
              "      background-color: #E2EBFA;\n",
              "      box-shadow: 0px 1px 2px rgba(60, 64, 67, 0.3), 0px 1px 3px 1px rgba(60, 64, 67, 0.15);\n",
              "      fill: #174EA6;\n",
              "    }\n",
              "\n",
              "    [theme=dark] .colab-df-convert {\n",
              "      background-color: #3B4455;\n",
              "      fill: #D2E3FC;\n",
              "    }\n",
              "\n",
              "    [theme=dark] .colab-df-convert:hover {\n",
              "      background-color: #434B5C;\n",
              "      box-shadow: 0px 1px 3px 1px rgba(0, 0, 0, 0.15);\n",
              "      filter: drop-shadow(0px 1px 2px rgba(0, 0, 0, 0.3));\n",
              "      fill: #FFFFFF;\n",
              "    }\n",
              "  </style>\n",
              "\n",
              "      <script>\n",
              "        const buttonEl =\n",
              "          document.querySelector('#df-8a2a1ce5-eb8e-402b-8d3e-cc64c26a8cbb button.colab-df-convert');\n",
              "        buttonEl.style.display =\n",
              "          google.colab.kernel.accessAllowed ? 'block' : 'none';\n",
              "\n",
              "        async function convertToInteractive(key) {\n",
              "          const element = document.querySelector('#df-8a2a1ce5-eb8e-402b-8d3e-cc64c26a8cbb');\n",
              "          const dataTable =\n",
              "            await google.colab.kernel.invokeFunction('convertToInteractive',\n",
              "                                                     [key], {});\n",
              "          if (!dataTable) return;\n",
              "\n",
              "          const docLinkHtml = 'Like what you see? Visit the ' +\n",
              "            '<a target=\"_blank\" href=https://colab.research.google.com/notebooks/data_table.ipynb>data table notebook</a>'\n",
              "            + ' to learn more about interactive tables.';\n",
              "          element.innerHTML = '';\n",
              "          dataTable['output_type'] = 'display_data';\n",
              "          await google.colab.output.renderOutput(dataTable, element);\n",
              "          const docLink = document.createElement('div');\n",
              "          docLink.innerHTML = docLinkHtml;\n",
              "          element.appendChild(docLink);\n",
              "        }\n",
              "      </script>\n",
              "    </div>\n",
              "  </div>\n",
              "  "
            ]
          },
          "metadata": {},
          "execution_count": 16
        }
      ]
    },
    {
      "cell_type": "code",
      "source": [
        "from sklearn.metrics import classification_report, accuracy_score"
      ],
      "metadata": {
        "id": "7hNgERfak41d"
      },
      "execution_count": 17,
      "outputs": []
    },
    {
      "cell_type": "code",
      "source": [
        "#test scores\n",
        "print(classification_report(pd_result.label, pd_result.result))\n",
        "print(accuracy_score(pd_result.label, pd_result.result))"
      ],
      "metadata": {
        "id": "P0IROAi9kvQz",
        "outputId": "29014c44-daed-4e28-f600-fea2856630a8",
        "colab": {
          "base_uri": "https://localhost:8080/"
        }
      },
      "execution_count": 18,
      "outputs": [
        {
          "output_type": "stream",
          "name": "stdout",
          "text": [
            "              precision    recall  f1-score   support\n",
            "\n",
            "           0       0.63      1.00      0.77       264\n",
            "           1       0.00      0.00      0.00       156\n",
            "\n",
            "    accuracy                           0.63       420\n",
            "   macro avg       0.31      0.50      0.39       420\n",
            "weighted avg       0.40      0.63      0.49       420\n",
            "\n",
            "0.6285714285714286\n"
          ]
        },
        {
          "output_type": "stream",
          "name": "stderr",
          "text": [
            "/usr/local/lib/python3.7/dist-packages/sklearn/metrics/_classification.py:1318: UndefinedMetricWarning: Precision and F-score are ill-defined and being set to 0.0 in labels with no predicted samples. Use `zero_division` parameter to control this behavior.\n",
            "  _warn_prf(average, modifier, msg_start, len(result))\n",
            "/usr/local/lib/python3.7/dist-packages/sklearn/metrics/_classification.py:1318: UndefinedMetricWarning: Precision and F-score are ill-defined and being set to 0.0 in labels with no predicted samples. Use `zero_division` parameter to control this behavior.\n",
            "  _warn_prf(average, modifier, msg_start, len(result))\n",
            "/usr/local/lib/python3.7/dist-packages/sklearn/metrics/_classification.py:1318: UndefinedMetricWarning: Precision and F-score are ill-defined and being set to 0.0 in labels with no predicted samples. Use `zero_division` parameter to control this behavior.\n",
            "  _warn_prf(average, modifier, msg_start, len(result))\n"
          ]
        }
      ]
    },
    {
      "cell_type": "code",
      "source": [
        "#train scores\n",
        "pd_result_train = robert_pipelineModel.transform(df_train).select('text','label',\"prediction.result\").toPandas()\n"
      ],
      "metadata": {
        "id": "Jdp3YFKwkz4U",
        "outputId": "3c20031d-f910-4e12-ab73-e5a1663143ff",
        "colab": {
          "base_uri": "https://localhost:8080/",
          "height": 415
        }
      },
      "execution_count": 20,
      "outputs": [
        {
          "output_type": "error",
          "ename": "ValueError",
          "evalue": "ignored",
          "traceback": [
            "\u001b[0;31m---------------------------------------------------------------------------\u001b[0m",
            "\u001b[0;31mValueError\u001b[0m                                Traceback (most recent call last)",
            "\u001b[0;32m<ipython-input-20-99c8de9aeab6>\u001b[0m in \u001b[0;36m<module>\u001b[0;34m()\u001b[0m\n\u001b[1;32m      1\u001b[0m \u001b[0;31m#train scores\u001b[0m\u001b[0;34m\u001b[0m\u001b[0;34m\u001b[0m\u001b[0;34m\u001b[0m\u001b[0m\n\u001b[1;32m      2\u001b[0m \u001b[0mpd_result_train\u001b[0m \u001b[0;34m=\u001b[0m \u001b[0mrobert_pipelineModel\u001b[0m\u001b[0;34m.\u001b[0m\u001b[0mtransform\u001b[0m\u001b[0;34m(\u001b[0m\u001b[0mdf_train\u001b[0m\u001b[0;34m)\u001b[0m\u001b[0;34m.\u001b[0m\u001b[0mselect\u001b[0m\u001b[0;34m(\u001b[0m\u001b[0;34m'text'\u001b[0m\u001b[0;34m,\u001b[0m\u001b[0;34m'label'\u001b[0m\u001b[0;34m,\u001b[0m\u001b[0;34m\"prediction.result\"\u001b[0m\u001b[0;34m)\u001b[0m\u001b[0;34m.\u001b[0m\u001b[0mtoPandas\u001b[0m\u001b[0;34m(\u001b[0m\u001b[0;34m)\u001b[0m\u001b[0;34m\u001b[0m\u001b[0;34m\u001b[0m\u001b[0m\n\u001b[0;32m----> 3\u001b[0;31m \u001b[0mprint\u001b[0m\u001b[0;34m(\u001b[0m\u001b[0mclassification_report\u001b[0m\u001b[0;34m(\u001b[0m\u001b[0mpd_result_train\u001b[0m\u001b[0;34m.\u001b[0m\u001b[0mlabel\u001b[0m\u001b[0;34m,\u001b[0m \u001b[0mpd_result_train\u001b[0m\u001b[0;34m.\u001b[0m\u001b[0mresult\u001b[0m\u001b[0;34m)\u001b[0m\u001b[0;34m)\u001b[0m\u001b[0;34m\u001b[0m\u001b[0;34m\u001b[0m\u001b[0m\n\u001b[0m\u001b[1;32m      4\u001b[0m \u001b[0mprint\u001b[0m\u001b[0;34m(\u001b[0m\u001b[0maccuracy_score\u001b[0m\u001b[0;34m(\u001b[0m\u001b[0mpd_result_train\u001b[0m\u001b[0;34m.\u001b[0m\u001b[0mlabel\u001b[0m\u001b[0;34m,\u001b[0m \u001b[0mpd_result_train\u001b[0m\u001b[0;34m.\u001b[0m\u001b[0mresult\u001b[0m\u001b[0;34m)\u001b[0m\u001b[0;34m)\u001b[0m\u001b[0;34m\u001b[0m\u001b[0;34m\u001b[0m\u001b[0m\n",
            "\u001b[0;32m/usr/local/lib/python3.7/dist-packages/sklearn/metrics/_classification.py\u001b[0m in \u001b[0;36mclassification_report\u001b[0;34m(y_true, y_pred, labels, target_names, sample_weight, digits, output_dict, zero_division)\u001b[0m\n\u001b[1;32m   2108\u001b[0m     \"\"\"\n\u001b[1;32m   2109\u001b[0m \u001b[0;34m\u001b[0m\u001b[0m\n\u001b[0;32m-> 2110\u001b[0;31m     \u001b[0my_type\u001b[0m\u001b[0;34m,\u001b[0m \u001b[0my_true\u001b[0m\u001b[0;34m,\u001b[0m \u001b[0my_pred\u001b[0m \u001b[0;34m=\u001b[0m \u001b[0m_check_targets\u001b[0m\u001b[0;34m(\u001b[0m\u001b[0my_true\u001b[0m\u001b[0;34m,\u001b[0m \u001b[0my_pred\u001b[0m\u001b[0;34m)\u001b[0m\u001b[0;34m\u001b[0m\u001b[0;34m\u001b[0m\u001b[0m\n\u001b[0m\u001b[1;32m   2111\u001b[0m \u001b[0;34m\u001b[0m\u001b[0m\n\u001b[1;32m   2112\u001b[0m     \u001b[0;32mif\u001b[0m \u001b[0mlabels\u001b[0m \u001b[0;32mis\u001b[0m \u001b[0;32mNone\u001b[0m\u001b[0;34m:\u001b[0m\u001b[0;34m\u001b[0m\u001b[0;34m\u001b[0m\u001b[0m\n",
            "\u001b[0;32m/usr/local/lib/python3.7/dist-packages/sklearn/metrics/_classification.py\u001b[0m in \u001b[0;36m_check_targets\u001b[0;34m(y_true, y_pred)\u001b[0m\n\u001b[1;32m     84\u001b[0m     \u001b[0mcheck_consistent_length\u001b[0m\u001b[0;34m(\u001b[0m\u001b[0my_true\u001b[0m\u001b[0;34m,\u001b[0m \u001b[0my_pred\u001b[0m\u001b[0;34m)\u001b[0m\u001b[0;34m\u001b[0m\u001b[0;34m\u001b[0m\u001b[0m\n\u001b[1;32m     85\u001b[0m     \u001b[0mtype_true\u001b[0m \u001b[0;34m=\u001b[0m \u001b[0mtype_of_target\u001b[0m\u001b[0;34m(\u001b[0m\u001b[0my_true\u001b[0m\u001b[0;34m)\u001b[0m\u001b[0;34m\u001b[0m\u001b[0;34m\u001b[0m\u001b[0m\n\u001b[0;32m---> 86\u001b[0;31m     \u001b[0mtype_pred\u001b[0m \u001b[0;34m=\u001b[0m \u001b[0mtype_of_target\u001b[0m\u001b[0;34m(\u001b[0m\u001b[0my_pred\u001b[0m\u001b[0;34m)\u001b[0m\u001b[0;34m\u001b[0m\u001b[0;34m\u001b[0m\u001b[0m\n\u001b[0m\u001b[1;32m     87\u001b[0m \u001b[0;34m\u001b[0m\u001b[0m\n\u001b[1;32m     88\u001b[0m     \u001b[0my_type\u001b[0m \u001b[0;34m=\u001b[0m \u001b[0;34m{\u001b[0m\u001b[0mtype_true\u001b[0m\u001b[0;34m,\u001b[0m \u001b[0mtype_pred\u001b[0m\u001b[0;34m}\u001b[0m\u001b[0;34m\u001b[0m\u001b[0;34m\u001b[0m\u001b[0m\n",
            "\u001b[0;32m/usr/local/lib/python3.7/dist-packages/sklearn/utils/multiclass.py\u001b[0m in \u001b[0;36mtype_of_target\u001b[0;34m(y)\u001b[0m\n\u001b[1;32m    298\u001b[0m         ):\n\u001b[1;32m    299\u001b[0m             raise ValueError(\n\u001b[0;32m--> 300\u001b[0;31m                 \u001b[0;34m\"You appear to be using a legacy multi-label data\"\u001b[0m\u001b[0;34m\u001b[0m\u001b[0;34m\u001b[0m\u001b[0m\n\u001b[0m\u001b[1;32m    301\u001b[0m                 \u001b[0;34m\" representation. Sequence of sequences are no\"\u001b[0m\u001b[0;34m\u001b[0m\u001b[0;34m\u001b[0m\u001b[0m\n\u001b[1;32m    302\u001b[0m                 \u001b[0;34m\" longer supported; use a binary array or sparse\"\u001b[0m\u001b[0;34m\u001b[0m\u001b[0;34m\u001b[0m\u001b[0m\n",
            "\u001b[0;31mValueError\u001b[0m: You appear to be using a legacy multi-label data representation. Sequence of sequences are no longer supported; use a binary array or sparse matrix instead - the MultiLabelBinarizer transformer can convert to this format."
          ]
        }
      ]
    },
    {
      "cell_type": "code",
      "source": [
        "print(classification_report(pd_result_train.label, pd_result_train.result.explode()))\n",
        "print(accuracy_score(pd_result_train.label, pd_result_train.result.explode()))"
      ],
      "metadata": {
        "id": "p_9-vKDPk5jR"
      },
      "execution_count": null,
      "outputs": []
    },
    {
      "cell_type": "code",
      "source": [
        "pd_result_train.result.explode().value_counts()"
      ],
      "metadata": {
        "colab": {
          "base_uri": "https://localhost:8080/"
        },
        "id": "caUzvlS4Z-_6",
        "outputId": "daee17ea-ece4-4028-88f4-32f31710155b"
      },
      "execution_count": 31,
      "outputs": [
        {
          "output_type": "execute_result",
          "data": {
            "text/plain": [
              "0    2936\n",
              "Name: result, dtype: int64"
            ]
          },
          "metadata": {},
          "execution_count": 31
        }
      ]
    },
    {
      "cell_type": "code",
      "source": [
        ""
      ],
      "metadata": {
        "id": "gLfxiaE-auhA"
      },
      "execution_count": null,
      "outputs": []
    }
  ]
}